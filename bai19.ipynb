{
 "cells": [
  {
   "cell_type": "code",
   "execution_count": 12,
   "id": "627ff15e-6f9a-4d31-a7f7-be3a655f331a",
   "metadata": {},
   "outputs": [
    {
     "name": "stdout",
     "output_type": "stream",
     "text": [
      "Requirement already satisfied: opencv-python in c:\\users\\db\\anaconda3\\lib\\site-packages (4.10.0.84)\n",
      "Requirement already satisfied: numpy>=1.21.2 in c:\\users\\db\\anaconda3\\lib\\site-packages (from opencv-python) (1.26.4)\n"
     ]
    }
   ],
   "source": [
    " !pip install opencv-python"
   ]
  },
  {
   "cell_type": "code",
   "execution_count": 16,
   "id": "bcab4c8b-05e7-47ad-bb1b-610c8d5ef0a1",
   "metadata": {},
   "outputs": [],
   "source": [
    "def display(title, img):\n",
    "    cv2.imshow(title, img)\n",
    "    # Chờ một khoảng thời gian\n",
    "    cv2.waitKey(0)\n",
    "    # Đóng window\n",
    "    cv2.destroyWindow(title)"
   ]
  },
  {
   "cell_type": "code",
   "execution_count": 18,
   "id": "eca488d3-ba01-40ca-b205-6a54d8b0cdba",
   "metadata": {},
   "outputs": [],
   "source": [
    "# Import thư viện\n",
    "import cv2"
   ]
  },
  {
   "cell_type": "code",
   "execution_count": 22,
   "id": "8614389c-6f5f-421d-afc5-f22f911b4902",
   "metadata": {},
   "outputs": [
    {
     "name": "stdout",
     "output_type": "stream",
     "text": [
      "[[[ 68  96 120]\n",
      "  [ 68  96 120]\n",
      "  [ 68  96 120]\n",
      "  ...\n",
      "  [ 84  83  92]\n",
      "  [ 73  75  83]\n",
      "  [ 66  66  78]]\n",
      "\n",
      " [[ 68  96 120]\n",
      "  [ 68  96 120]\n",
      "  [ 68  96 120]\n",
      "  ...\n",
      "  [ 82  82  88]\n",
      "  [ 71  73  81]\n",
      "  [ 63  64  74]]\n",
      "\n",
      " [[ 68  96 120]\n",
      "  [ 68  96 120]\n",
      "  [ 68  96 120]\n",
      "  ...\n",
      "  [ 78  78  84]\n",
      "  [ 66  68  76]\n",
      "  [ 58  60  68]]\n",
      "\n",
      " ...\n",
      "\n",
      " [[181 207 224]\n",
      "  [179 205 222]\n",
      "  [178 204 221]\n",
      "  ...\n",
      "  [176 197 212]\n",
      "  [176 197 212]\n",
      "  [176 197 212]]\n",
      "\n",
      " [[181 207 224]\n",
      "  [178 204 221]\n",
      "  [177 203 220]\n",
      "  ...\n",
      "  [176 197 212]\n",
      "  [176 197 212]\n",
      "  [176 197 212]]\n",
      "\n",
      " [[181 207 224]\n",
      "  [178 204 221]\n",
      "  [176 202 219]\n",
      "  ...\n",
      "  [176 197 212]\n",
      "  [176 197 212]\n",
      "  [176 197 212]]]\n"
     ]
    }
   ],
   "source": [
    "# Đọc một ảnh (nhan TAB de nhin autocomplete)\n",
    "path= './data/01.jpg'\n",
    "img = cv2.imread(path)\n",
    "# In thông tin của ảnh\n",
    "print(img)"
   ]
  },
  {
   "cell_type": "code",
   "execution_count": 24,
   "id": "1fc9a1b5-a2e0-4247-8bab-0546ce868f6f",
   "metadata": {},
   "outputs": [
    {
     "name": "stdout",
     "output_type": "stream",
     "text": [
      "(288, 235, 3)\n",
      "288\n",
      "235\n",
      "3\n"
     ]
    }
   ],
   "source": [
    "# Lấy kích thước\n",
    "print(img.shape)\n",
    "x, y, z = img.shape\n",
    "print(x)\n",
    "print(y)\n",
    "print(z)"
   ]
  },
  {
   "cell_type": "code",
   "execution_count": 26,
   "id": "6e6ec366-9ab2-4a8e-81ea-b1ffbb3ab802",
   "metadata": {},
   "outputs": [],
   "source": [
    "# Hiển thị ảnh\n",
    "cv2.imshow('Window', img)\n",
    "# Chờ một khoảng thời gian\n",
    "cv2.waitKey(10000)\n",
    "# Đóng window\n",
    "cv2.destroyWindow('Window')"
   ]
  },
  {
   "cell_type": "code",
   "execution_count": 27,
   "id": "043451ff-6f15-4181-9d2d-77c5956a355f",
   "metadata": {},
   "outputs": [],
   "source": [
    "# Tách màu\n",
    "b, g, r = cv2.split(img)\n",
    "cv2.imshow('Window', img)\n",
    "cv2.imshow('Red', r)\n",
    "cv2.imshow('Green', g)\n",
    "cv2.imshow('Blue', b)\n",
    "\n",
    "# Chờ một khoảng thời gian\n",
    "cv2.waitKey(0)\n",
    "# Đóng window\n",
    "cv2.destroyAllWindows()"
   ]
  },
  {
   "cell_type": "code",
   "execution_count": 29,
   "id": "63644c8e-1ced-4e91-82c3-7a18856c7a72",
   "metadata": {},
   "outputs": [],
   "source": [
    "gray_img = cv2.cvtColor(img, cv2.COLOR_BGR2GRAY)\n",
    "img_2 = cv2.cvtColor(img, cv2.COLOR_BGR2RGB)\n",
    "cv2.imshow('Window', img)\n",
    "cv2.imshow('gray_img', gray_img)\n",
    "cv2.imshow('img_2', img_2)\n",
    "# Chờ một khoảng thời gian\n",
    "cv2.waitKey(0)\n",
    "# Đóng window\n",
    "cv2.destroyAllWindows()"
   ]
  },
  {
   "cell_type": "code",
   "execution_count": 30,
   "id": "edc0de2a-f588-4dc6-b4ee-c94557826c8c",
   "metadata": {},
   "outputs": [
    {
     "ename": "error",
     "evalue": "OpenCV(4.10.0) D:\\a\\opencv-python\\opencv-python\\opencv\\modules\\highgui\\src\\window_w32.cpp:1261: error: (-27:Null pointer) NULL window: 'Window' in function 'cvDestroyWindow'\n",
     "output_type": "error",
     "traceback": [
      "\u001b[1;31m---------------------------------------------------------------------------\u001b[0m",
      "\u001b[1;31merror\u001b[0m                                     Traceback (most recent call last)",
      "Cell \u001b[1;32mIn[30], line 18\u001b[0m\n\u001b[0;32m     16\u001b[0m         img2[y, x] \u001b[38;5;241m=\u001b[39m green_color\n\u001b[0;32m     17\u001b[0m \u001b[38;5;66;03m# Hiển thị\u001b[39;00m\n\u001b[1;32m---> 18\u001b[0m display(\u001b[38;5;124m'\u001b[39m\u001b[38;5;124mWindow\u001b[39m\u001b[38;5;124m'\u001b[39m, img)\n\u001b[0;32m     19\u001b[0m display(\u001b[38;5;124m'\u001b[39m\u001b[38;5;124mWindow-2\u001b[39m\u001b[38;5;124m'\u001b[39m, img2)\n",
      "Cell \u001b[1;32mIn[16], line 6\u001b[0m, in \u001b[0;36mdisplay\u001b[1;34m(title, img)\u001b[0m\n\u001b[0;32m      4\u001b[0m cv2\u001b[38;5;241m.\u001b[39mwaitKey(\u001b[38;5;241m0\u001b[39m)\n\u001b[0;32m      5\u001b[0m \u001b[38;5;66;03m# Đóng window\u001b[39;00m\n\u001b[1;32m----> 6\u001b[0m cv2\u001b[38;5;241m.\u001b[39mdestroyWindow(title)\n",
      "\u001b[1;31merror\u001b[0m: OpenCV(4.10.0) D:\\a\\opencv-python\\opencv-python\\opencv\\modules\\highgui\\src\\window_w32.cpp:1261: error: (-27:Null pointer) NULL window: 'Window' in function 'cvDestroyWindow'\n"
     ]
    }
   ],
   "source": [
    "# Thay đổi thông số của điểm ảnh\n",
    "height, width, z = img.shape\n",
    "quater_h = height/2\n",
    "quater_w = width/2\n",
    "\n",
    "# geen color\n",
    "green_color = (0,255,0)\n",
    "\n",
    "# copy ảnh\n",
    "img2 = img.copy()\n",
    "\n",
    "# thay đổi màu của góc 1/4 bên trái trên\n",
    "\n",
    "for y in range(int(quater_h)):\n",
    "    for x in range(int(quater_w)):\n",
    "        img2[y, x] = green_color\n",
    "# Hiển thị\n",
    "display('Window', img)\n",
    "display('Window-2', img2)"
   ]
  },
  {
   "cell_type": "code",
   "execution_count": null,
   "id": "a9e4edca-44a7-466e-b52a-02a7df7562ff",
   "metadata": {},
   "outputs": [],
   "source": []
  }
 ],
 "metadata": {
  "kernelspec": {
   "display_name": "Python 3 (ipykernel)",
   "language": "python",
   "name": "python3"
  },
  "language_info": {
   "codemirror_mode": {
    "name": "ipython",
    "version": 3
   },
   "file_extension": ".py",
   "mimetype": "text/x-python",
   "name": "python",
   "nbconvert_exporter": "python",
   "pygments_lexer": "ipython3",
   "version": "3.12.4"
  }
 },
 "nbformat": 4,
 "nbformat_minor": 5
}
